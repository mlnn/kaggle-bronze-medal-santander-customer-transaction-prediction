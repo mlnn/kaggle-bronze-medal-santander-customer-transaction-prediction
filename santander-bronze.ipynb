{
 "cells": [
  {
   "cell_type": "code",
   "execution_count": null,
   "metadata": {
    "collapsed": true
   },
   "outputs": [],
   "source": [
    "#bronze medal on kaggle (606/9038 teams)"
   ]
  },
  {
   "cell_type": "code",
   "execution_count": null,
   "metadata": {},
   "outputs": [],
   "source": [
    "import lightgbm as lgb\n",
    "import pandas as pd\n",
    "import numpy as np\n",
    "from  sklearn.metrics import roc_auc_score\n",
    "from datetime import datetime\n",
    "from pathlib import Path\n",
    "from sklearn.model_selection import StratifiedKFold\n",
    "from sklearn.model_selection import RepeatedStratifiedKFold"
   ]
  },
  {
   "cell_type": "code",
   "execution_count": null,
   "metadata": {
    "collapsed": true
   },
   "outputs": [],
   "source": [
    "path=Path(\"../input/\")\n",
    "train=pd.read_csv(path/\"train.csv\").drop(\"ID_code\",axis=1)\n",
    "test=pd.read_csv(path/\"test.csv\").drop(\"ID_code\",axis=1)"
   ]
  },
  {
   "cell_type": "code",
   "execution_count": null,
   "metadata": {
    "collapsed": true
   },
   "outputs": [],
   "source": [
    "## Inspiration from\n",
    "#https://www.kaggle.com/jiweiliu/lgb-2-leaves-augment\n",
    "def augment(train,num_n=1,num_p=2):\n",
    "    newtrain=[train]\n",
    "    \n",
    "    n=train[train.target==0]\n",
    "    for i in range(num_n):\n",
    "        newtrain.append(n.apply(lambda x:x.values.take(np.random.permutation(len(n)))))\n",
    "    \n",
    "    for i in range(num_p):\n",
    "        p=train[train.target>0]\n",
    "        newtrain.append(p.apply(lambda x:x.values.take(np.random.permutation(len(p)))))\n",
    "    return pd.concat(newtrain)\n",
    "#df=oversample(train,2,1)"
   ]
  },
  {
   "cell_type": "code",
   "execution_count": null,
   "metadata": {
    "collapsed": true
   },
   "outputs": [],
   "source": [
    "#params got with gridsearchcv\n",
    "param = {'num_leaves': 16,\n",
    "    'min_data_in_leaf': 42,\n",
    "    'tree_learner': 'serial',\n",
    "    'objective': 'binary',\n",
    "    'max_depth': -1,\n",
    "    'learning_rate': 0.01,\n",
    "    'boosting': 'gbdt',\n",
    "    'bagging_freq': 2,\n",
    "    'bagging_fraction': 0.4,\n",
    "    'feature_fraction': 0.05,\n",
    "    'bagging_seed': 11,\n",
    "    'reg_alpha': 1.728910519108444,\n",
    "    'reg_lambda': 4.9847051755586085,\n",
    "    'random_state': 42,\n",
    "    'metric': 'auc',\n",
    "    'verbosity': -1,\n",
    "    # 'subsample': 0.81,\n",
    "    'min_gain_to_split': 7,\n",
    "    # 'min_child_weight': 19.428902804238373,\n",
    "    'num_threads': -1,\n",
    "    'min_sum_hessian_in_leaf': 10.0,\n",
    "    'boost_from_average':'false'}\n",
    "\n",
    "\"\"\"\n",
    "{\n",
    "    'bagging_freq': 5,\n",
    "    'bagging_fraction': 0.335,\n",
    "    'boost_from_average':'false',\n",
    "    'boost': 'gbdt',\n",
    "    'feature_fraction': 0.041,\n",
    "    'learning_rate': 0.0083,\n",
    "    'max_depth': -1,\n",
    "    'metric':'auc',\n",
    "    'min_data_in_leaf': 80,\n",
    "    'min_sum_hessian_in_leaf': 10.0,\n",
    "    'num_leaves': 13,\n",
    "    'num_threads': 8,\n",
    "    'tree_learner': 'serial',\n",
    "    'objective': 'binary', \n",
    "    'verbosity': -1\n",
    "}\n",
    "\"\"\""
   ]
  },
  {
   "cell_type": "code",
   "execution_count": null,
   "metadata": {
    "collapsed": true
   },
   "outputs": [],
   "source": [
    "result=np.zeros(test.shape[0])\n",
    "oof = np.zeros(len(train))\n",
    "rskf = RepeatedStratifiedKFold(n_splits=5, n_repeats=5,random_state=10)\n",
    "for counter,(train_index, valid_index) in enumerate(rskf.split(train, train.target),1):\n",
    "    print (counter)\n",
    "    \n",
    "    #Train data\n",
    "    t=train.iloc[train_index]\n",
    "    t=augment(t)\n",
    "    trn_data = lgb.Dataset(t.drop(\"target\",axis=1), label=t.target)\n",
    "    \n",
    "    #Validation data\n",
    "    v=train.iloc[valid_index]\n",
    "    val_data = lgb.Dataset(v.drop(\"target\",axis=1), label=v.target)\n",
    "    \n",
    "    #Training\n",
    "    model = lgb.train(param, trn_data, 1000000, valid_sets = [trn_data, val_data], verbose_eval=5000, early_stopping_rounds = 4000)\n",
    "    result +=model.predict(test, num_iteration=model.best_iteration)\n",
    "    oof[valid_index]+=model.predict(train.iloc[valid_index], num_iteration=model.best_iteration)"
   ]
  },
  {
   "cell_type": "code",
   "execution_count": null,
   "metadata": {
    "collapsed": true
   },
   "outputs": [],
   "source": [
    "score=roc_auc_score(train.target, oof/counter)\n",
    "print(\"CV score: {:<8.8f}\".format(score))"
   ]
  },
  {
   "cell_type": "code",
   "execution_count": null,
   "metadata": {
    "collapsed": true
   },
   "outputs": [],
   "source": [
    "submission = pd.read_csv(path/'sample_submission.csv')\n",
    "submission['target'] = result/counter\n",
    "filename=\"{:%Y-%m-%d_%H_%M}_sub.csv\".format(datetime.now())\n",
    "submission.to_csv(filename, index=False)"
   ]
  }
 ],
 "metadata": {
  "kernelspec": {
   "display_name": "Python 3",
   "language": "python",
   "name": "python3"
  },
  "language_info": {
   "codemirror_mode": {
    "name": "ipython",
    "version": 3
   },
   "file_extension": ".py",
   "mimetype": "text/x-python",
   "name": "python",
   "nbconvert_exporter": "python",
   "pygments_lexer": "ipython3",
   "version": "3.6.3"
  }
 },
 "nbformat": 4,
 "nbformat_minor": 2
}
